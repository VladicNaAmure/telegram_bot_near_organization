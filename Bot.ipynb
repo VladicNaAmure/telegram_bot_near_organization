{
  "nbformat": 4,
  "nbformat_minor": 0,
  "metadata": {
    "colab": {
      "name": "Bot.ipynb",
      "provenance": [],
      "collapsed_sections": [
        "iyymwO6jsBX7",
        "-0r6bsrNrrUL",
        "17IBgRi4xYGT",
        "wdnPpHf0w0xo"
      ]
    },
    "kernelspec": {
      "name": "python3",
      "display_name": "Python 3"
    }
  },
  "cells": [
    {
      "cell_type": "markdown",
      "metadata": {
        "id": "iyymwO6jsBX7",
        "colab_type": "text"
      },
      "source": [
        "# Описание"
      ]
    },
    {
      "cell_type": "markdown",
      "metadata": {
        "id": "AIWxK0GcsEaD",
        "colab_type": "text"
      },
      "source": [
        "**Файд содержит три блока:**\n",
        "\n",
        "1. Конвертация DESCRIPTION/.JSON\n",
        "2. Алгоритм поиска ближайших заведений\n",
        "3. Написание бота\n",
        "\n",
        "Каждый из блоков, при наличие данных запускается отдельно. \n",
        "\n",
        "**P.S.** Для запуска бота достаточно блока \"*Написание бота*\". Нужно вставить **свой API ключ** (Получить его можно написав *BotFather*).\n",
        "\n",
        "**P.S.S.** Для запуска блока \"*Алгоритм поиска ближайших заведений*\", необходимо запустить yandex_geocoder из \"*Конвертация DESCRIPTION/.JSON*\", предварительно вставив **свой API Yandex Map ключ**."
      ]
    },
    {
      "cell_type": "markdown",
      "metadata": {
        "id": "-0r6bsrNrrUL",
        "colab_type": "text"
      },
      "source": [
        "# Конвертация DESCRIPTION/.JSON\n"
      ]
    },
    {
      "cell_type": "code",
      "metadata": {
        "id": "Db6eR_2s_DdY",
        "colab_type": "code",
        "colab": {
          "base_uri": "https://localhost:8080/",
          "height": 290
        },
        "outputId": "0b2423d6-152d-49ea-c594-07a563236165"
      },
      "source": [
        "!unzip /content/spb-20200707T175500Z-001.zip"
      ],
      "execution_count": 4,
      "outputs": [
        {
          "output_type": "stream",
          "text": [
            "Archive:  /content/spb-20200707T175500Z-001.zip\n",
            "  inflating: spb/description/spb_market.json  \n",
            "  inflating: spb/description/spb_bars_and_clubs.json  \n",
            "  inflating: spb/description/spb_fast_snacks.json  \n",
            "  inflating: spb/description/spb_deserts.json  \n",
            "  inflating: spb/reviews/spb_market_reviews.json  \n",
            "  inflating: spb/description/spb_bakery.json  \n",
            "  inflating: spb/description/spb_coffee_and_tea.json  \n",
            "  inflating: spb/reviews/spb_coffee_and_tea_reviews.json  \n",
            "  inflating: spb/reviews/spb_deserts_reviews.json  \n",
            "  inflating: spb/reviews/spb_bars_and_clubs_reviews.json  \n",
            "  inflating: spb/reviews/spb_fast_snacks_reviews.json  \n",
            "  inflating: spb/reviews/spb_bakery_reviews.json  \n",
            "  inflating: spb/description/spb_restaurants.json  \n",
            "  inflating: spb/reviews/spb_restaurants_reviews.json  \n"
          ],
          "name": "stdout"
        }
      ]
    },
    {
      "cell_type": "markdown",
      "metadata": {
        "id": "VsXuNdMA1A8z",
        "colab_type": "text"
      },
      "source": [
        "Подключаем библиотеки"
      ]
    },
    {
      "cell_type": "code",
      "metadata": {
        "id": "RAo6t5PK_kRD",
        "colab_type": "code",
        "colab": {}
      },
      "source": [
        "import pandas as pd\n",
        "import numpy as np"
      ],
      "execution_count": 2,
      "outputs": []
    },
    {
      "cell_type": "markdown",
      "metadata": {
        "id": "EOijjnNO1DA4",
        "colab_type": "text"
      },
      "source": [
        "Импорт данных.\n",
        "\n",
        "**P.S.** Данные о барах и клубах Санкт-Петербурга с *tripadvisor.ru*\n",
        "\n"
      ]
    },
    {
      "cell_type": "code",
      "metadata": {
        "id": "efUAwgc5_9w1",
        "colab_type": "code",
        "colab": {
          "base_uri": "https://localhost:8080/",
          "height": 581
        },
        "outputId": "b63a5390-29b0-47fd-f327-dc2625a8e4df"
      },
      "source": [
        "data = pd.read_json('/content/spb/description/spb_bars_and_clubs.json', lines=True)\n",
        "data.head()"
      ],
      "execution_count": 5,
      "outputs": [
        {
          "output_type": "execute_result",
          "data": {
            "text/html": [
              "<div>\n",
              "<style scoped>\n",
              "    .dataframe tbody tr th:only-of-type {\n",
              "        vertical-align: middle;\n",
              "    }\n",
              "\n",
              "    .dataframe tbody tr th {\n",
              "        vertical-align: top;\n",
              "    }\n",
              "\n",
              "    .dataframe thead th {\n",
              "        text-align: right;\n",
              "    }\n",
              "</style>\n",
              "<table border=\"1\" class=\"dataframe\">\n",
              "  <thead>\n",
              "    <tr style=\"text-align: right;\">\n",
              "      <th></th>\n",
              "      <th>name</th>\n",
              "      <th>address</th>\n",
              "      <th>schedule_start</th>\n",
              "      <th>schedule_start_letter</th>\n",
              "      <th>schedule_end</th>\n",
              "      <th>schedule_end_letter</th>\n",
              "      <th>average_rating</th>\n",
              "      <th>number_of_reviews</th>\n",
              "      <th>place_in_rating</th>\n",
              "      <th>award_text</th>\n",
              "      <th>years_text</th>\n",
              "      <th>feature_1_name</th>\n",
              "      <th>feature_1</th>\n",
              "      <th>feature_2_name</th>\n",
              "      <th>feature_2</th>\n",
              "      <th>feature_3_name</th>\n",
              "      <th>feature_3</th>\n",
              "      <th>distance_from</th>\n",
              "      <th>photo1</th>\n",
              "      <th>photo2</th>\n",
              "      <th>photo3</th>\n",
              "      <th>photo4</th>\n",
              "      <th>ctime</th>\n",
              "      <th>curl</th>\n",
              "    </tr>\n",
              "  </thead>\n",
              "  <tbody>\n",
              "    <tr>\n",
              "      <th>0</th>\n",
              "      <td>Рок Паб</td>\n",
              "      <td>Проспект Пятилеток 8, Санкт-Петербург 193318 Р...</td>\n",
              "      <td>None</td>\n",
              "      <td>None</td>\n",
              "      <td>None</td>\n",
              "      <td>None</td>\n",
              "      <td>4,0</td>\n",
              "      <td>9 отзывов</td>\n",
              "      <td>№ 284 из 410 – Американская – Санкт-Петербург</td>\n",
              "      <td>None</td>\n",
              "      <td>None</td>\n",
              "      <td>ДИАПАЗОН ЦЕН</td>\n",
              "      <td>300 руб - 1 900 руб</td>\n",
              "      <td>ТИП КУХНИ</td>\n",
              "      <td>Американская, Бар, Паб, Гастропаб</td>\n",
              "      <td>УСЛУГИ</td>\n",
              "      <td>Бронирование</td>\n",
              "      <td>None</td>\n",
              "      <td>None</td>\n",
              "      <td>None</td>\n",
              "      <td>None</td>\n",
              "      <td>None</td>\n",
              "      <td>1591711288</td>\n",
              "      <td>https://www.tripadvisor.ru/Restaurant_Review-g...</td>\n",
              "    </tr>\n",
              "    <tr>\n",
              "      <th>1</th>\n",
              "      <td>Ни В Одном Глазу</td>\n",
              "      <td>переулок Ульяны Громовой, 4, Санкт-Петербург 1...</td>\n",
              "      <td>4:00</td>\n",
              "      <td>PM</td>\n",
              "      <td>02:00</td>\n",
              "      <td>AM</td>\n",
              "      <td>5,0</td>\n",
              "      <td>1 отзыв</td>\n",
              "      <td>№ 150 из 174 – Средиземноморская – Санкт-Петер...</td>\n",
              "      <td>None</td>\n",
              "      <td>None</td>\n",
              "      <td>ТИП КУХНИ</td>\n",
              "      <td>Средиземноморская, Европейская, Гриль, Совреме...</td>\n",
              "      <td>ВРЕМЯ ПРИЕМА ПИЩИ</td>\n",
              "      <td>Ужин</td>\n",
              "      <td>None</td>\n",
              "      <td>None</td>\n",
              "      <td>0,4 км от: Невский проспект</td>\n",
              "      <td>data:image/gif;base64,R0lGODlhAQABAAAAACH5BAEK...</td>\n",
              "      <td>data:image/gif;base64,R0lGODlhAQABAAAAACH5BAEK...</td>\n",
              "      <td>data:image/gif;base64,R0lGODlhAQABAAAAACH5BAEK...</td>\n",
              "      <td>data:image/gif;base64,R0lGODlhAQABAAAAACH5BAEK...</td>\n",
              "      <td>1591711288</td>\n",
              "      <td>https://www.tripadvisor.ru/Restaurant_Review-g...</td>\n",
              "    </tr>\n",
              "    <tr>\n",
              "      <th>2</th>\n",
              "      <td>Gypsies &amp; Jews</td>\n",
              "      <td>Ломоносова, 14, Санкт-Петербург 191002 Россия</td>\n",
              "      <td>None</td>\n",
              "      <td>None</td>\n",
              "      <td>None</td>\n",
              "      <td>None</td>\n",
              "      <td>5,0</td>\n",
              "      <td>1 отзыв</td>\n",
              "      <td>№ 506 из 677 – Бар – Санкт-Петербург</td>\n",
              "      <td>None</td>\n",
              "      <td>None</td>\n",
              "      <td>ТИП КУХНИ</td>\n",
              "      <td>Бар, Паб, Закусочная, Уличная еда</td>\n",
              "      <td>None</td>\n",
              "      <td>None</td>\n",
              "      <td>None</td>\n",
              "      <td>None</td>\n",
              "      <td>None</td>\n",
              "      <td>None</td>\n",
              "      <td>None</td>\n",
              "      <td>None</td>\n",
              "      <td>None</td>\n",
              "      <td>1591711288</td>\n",
              "      <td>https://www.tripadvisor.ru/Restaurant_Review-g...</td>\n",
              "    </tr>\n",
              "    <tr>\n",
              "      <th>3</th>\n",
              "      <td>Blackberry</td>\n",
              "      <td>Гражданский проспект, 41 лит Б, Санкт-Петербур...</td>\n",
              "      <td>None</td>\n",
              "      <td>None</td>\n",
              "      <td>None</td>\n",
              "      <td>None</td>\n",
              "      <td>4,0</td>\n",
              "      <td>5 отзывов</td>\n",
              "      <td>№ 4 140 из 6 851 – Рестораны – Санкт-Петербург</td>\n",
              "      <td>None</td>\n",
              "      <td>None</td>\n",
              "      <td>ТИП КУХНИ</td>\n",
              "      <td>Бар, Паб</td>\n",
              "      <td>None</td>\n",
              "      <td>None</td>\n",
              "      <td>None</td>\n",
              "      <td>None</td>\n",
              "      <td>None</td>\n",
              "      <td>data:image/gif;base64,R0lGODlhAQABAAAAACH5BAEK...</td>\n",
              "      <td>None</td>\n",
              "      <td>None</td>\n",
              "      <td>None</td>\n",
              "      <td>1591711288</td>\n",
              "      <td>https://www.tripadvisor.ru/Restaurant_Review-g...</td>\n",
              "    </tr>\n",
              "    <tr>\n",
              "      <th>4</th>\n",
              "      <td>Bazin</td>\n",
              "      <td>Некрасова, 22, Санкт-Петербург 191014 Россия</td>\n",
              "      <td>None</td>\n",
              "      <td>None</td>\n",
              "      <td>None</td>\n",
              "      <td>None</td>\n",
              "      <td>5,0</td>\n",
              "      <td>1 отзыв</td>\n",
              "      <td>№ 509 из 677 – Бар – Санкт-Петербург</td>\n",
              "      <td>None</td>\n",
              "      <td>None</td>\n",
              "      <td>ТИП КУХНИ</td>\n",
              "      <td>Бар, Паб</td>\n",
              "      <td>None</td>\n",
              "      <td>None</td>\n",
              "      <td>None</td>\n",
              "      <td>None</td>\n",
              "      <td>None</td>\n",
              "      <td>data:image/gif;base64,R0lGODlhAQABAAAAACH5BAEK...</td>\n",
              "      <td>None</td>\n",
              "      <td>None</td>\n",
              "      <td>None</td>\n",
              "      <td>1591711288</td>\n",
              "      <td>https://www.tripadvisor.ru/Restaurant_Review-g...</td>\n",
              "    </tr>\n",
              "  </tbody>\n",
              "</table>\n",
              "</div>"
            ],
            "text/plain": [
              "               name  ...                                               curl\n",
              "0           Рок Паб  ...  https://www.tripadvisor.ru/Restaurant_Review-g...\n",
              "1  Ни В Одном Глазу  ...  https://www.tripadvisor.ru/Restaurant_Review-g...\n",
              "2    Gypsies & Jews  ...  https://www.tripadvisor.ru/Restaurant_Review-g...\n",
              "3        Blackberry  ...  https://www.tripadvisor.ru/Restaurant_Review-g...\n",
              "4             Bazin  ...  https://www.tripadvisor.ru/Restaurant_Review-g...\n",
              "\n",
              "[5 rows x 24 columns]"
            ]
          },
          "metadata": {
            "tags": []
          },
          "execution_count": 5
        }
      ]
    },
    {
      "cell_type": "markdown",
      "metadata": {
        "id": "YD2OusCVHcHl",
        "colab_type": "text"
      },
      "source": [
        "**Поработаем с данными.**\n",
        "\n",
        "Столбец place_in_rating, является отношением \"Позиция бара в рейтинге\" / \"Колличество баров в рейтинге\". Если отношение стремится к 0, тогда рейтинг бара стремится к первой строчки рейтинга.\n",
        "\n",
        "**P.S.** Если place_in_rating = 0, тогда этот бар не был в рейтинге."
      ]
    },
    {
      "cell_type": "code",
      "metadata": {
        "id": "_ZtPJ2ZPIqzd",
        "colab_type": "code",
        "colab": {}
      },
      "source": [
        "place_in_rating = data['place_in_rating'].str.split(' ',expand=True)"
      ],
      "execution_count": 6,
      "outputs": []
    },
    {
      "cell_type": "code",
      "metadata": {
        "id": "1C2gcSWDIuFF",
        "colab_type": "code",
        "colab": {}
      },
      "source": [
        "place_in_rating = place_in_rating.apply(lambda x: pd.to_numeric(x,errors='coerce')).drop(columns=[0,2,4,5,6,7,8,9])"
      ],
      "execution_count": 7,
      "outputs": []
    },
    {
      "cell_type": "code",
      "metadata": {
        "id": "4h03oWkEKOc1",
        "colab_type": "code",
        "colab": {}
      },
      "source": [
        "place_in_rating['place_in_rating'] = place_in_rating[1]/place_in_rating[3]"
      ],
      "execution_count": 8,
      "outputs": []
    },
    {
      "cell_type": "code",
      "metadata": {
        "id": "JNBMfC5sKmSo",
        "colab_type": "code",
        "colab": {}
      },
      "source": [
        "place_in_rating = place_in_rating.drop(columns=[1,3])\n",
        "place_in_rating.fillna(0, inplace=True)"
      ],
      "execution_count": 9,
      "outputs": []
    },
    {
      "cell_type": "markdown",
      "metadata": {
        "id": "h7sOC-s7LthU",
        "colab_type": "text"
      },
      "source": [
        "Столбец average_rating - средняя оценка бара, от пользователей.\n",
        "\n",
        "**P.S.** Если average_rating = 0, тогда этот бар еще не был оценен."
      ]
    },
    {
      "cell_type": "code",
      "metadata": {
        "id": "GNjF3rmvLtrR",
        "colab_type": "code",
        "colab": {}
      },
      "source": [
        "average_rating\t= data['average_rating']\n",
        "average_rating.fillna(0, inplace=True)"
      ],
      "execution_count": 10,
      "outputs": []
    },
    {
      "cell_type": "markdown",
      "metadata": {
        "id": "O31t_2McL8k7",
        "colab_type": "text"
      },
      "source": [
        "Оставляем необходимые столбцы."
      ]
    },
    {
      "cell_type": "code",
      "metadata": {
        "id": "C0-Lq2y6L8ui",
        "colab_type": "code",
        "colab": {}
      },
      "source": [
        "data['place_in_rating'] = place_in_rating\n",
        "data['average_rating'] = average_rating"
      ],
      "execution_count": 11,
      "outputs": []
    },
    {
      "cell_type": "code",
      "metadata": {
        "id": "k5EZXXo8MFnI",
        "colab_type": "code",
        "colab": {}
      },
      "source": [
        "data = data[['name',\t'address','place_in_rating','average_rating','curl']]"
      ],
      "execution_count": 12,
      "outputs": []
    },
    {
      "cell_type": "code",
      "metadata": {
        "id": "1VkXhJtmMmLh",
        "colab_type": "code",
        "colab": {
          "base_uri": "https://localhost:8080/",
          "height": 285
        },
        "outputId": "da8b8e67-f74f-4b2e-ce0c-1ee23921bdc8"
      },
      "source": [
        "data.head()"
      ],
      "execution_count": 13,
      "outputs": [
        {
          "output_type": "execute_result",
          "data": {
            "text/html": [
              "<div>\n",
              "<style scoped>\n",
              "    .dataframe tbody tr th:only-of-type {\n",
              "        vertical-align: middle;\n",
              "    }\n",
              "\n",
              "    .dataframe tbody tr th {\n",
              "        vertical-align: top;\n",
              "    }\n",
              "\n",
              "    .dataframe thead th {\n",
              "        text-align: right;\n",
              "    }\n",
              "</style>\n",
              "<table border=\"1\" class=\"dataframe\">\n",
              "  <thead>\n",
              "    <tr style=\"text-align: right;\">\n",
              "      <th></th>\n",
              "      <th>name</th>\n",
              "      <th>address</th>\n",
              "      <th>place_in_rating</th>\n",
              "      <th>average_rating</th>\n",
              "      <th>curl</th>\n",
              "    </tr>\n",
              "  </thead>\n",
              "  <tbody>\n",
              "    <tr>\n",
              "      <th>0</th>\n",
              "      <td>Рок Паб</td>\n",
              "      <td>Проспект Пятилеток 8, Санкт-Петербург 193318 Р...</td>\n",
              "      <td>0.692683</td>\n",
              "      <td>4,0</td>\n",
              "      <td>https://www.tripadvisor.ru/Restaurant_Review-g...</td>\n",
              "    </tr>\n",
              "    <tr>\n",
              "      <th>1</th>\n",
              "      <td>Ни В Одном Глазу</td>\n",
              "      <td>переулок Ульяны Громовой, 4, Санкт-Петербург 1...</td>\n",
              "      <td>0.862069</td>\n",
              "      <td>5,0</td>\n",
              "      <td>https://www.tripadvisor.ru/Restaurant_Review-g...</td>\n",
              "    </tr>\n",
              "    <tr>\n",
              "      <th>2</th>\n",
              "      <td>Gypsies &amp; Jews</td>\n",
              "      <td>Ломоносова, 14, Санкт-Петербург 191002 Россия</td>\n",
              "      <td>0.747415</td>\n",
              "      <td>5,0</td>\n",
              "      <td>https://www.tripadvisor.ru/Restaurant_Review-g...</td>\n",
              "    </tr>\n",
              "    <tr>\n",
              "      <th>3</th>\n",
              "      <td>Blackberry</td>\n",
              "      <td>Гражданский проспект, 41 лит Б, Санкт-Петербур...</td>\n",
              "      <td>0.000000</td>\n",
              "      <td>4,0</td>\n",
              "      <td>https://www.tripadvisor.ru/Restaurant_Review-g...</td>\n",
              "    </tr>\n",
              "    <tr>\n",
              "      <th>4</th>\n",
              "      <td>Bazin</td>\n",
              "      <td>Некрасова, 22, Санкт-Петербург 191014 Россия</td>\n",
              "      <td>0.751846</td>\n",
              "      <td>5,0</td>\n",
              "      <td>https://www.tripadvisor.ru/Restaurant_Review-g...</td>\n",
              "    </tr>\n",
              "  </tbody>\n",
              "</table>\n",
              "</div>"
            ],
            "text/plain": [
              "               name  ...                                               curl\n",
              "0           Рок Паб  ...  https://www.tripadvisor.ru/Restaurant_Review-g...\n",
              "1  Ни В Одном Глазу  ...  https://www.tripadvisor.ru/Restaurant_Review-g...\n",
              "2    Gypsies & Jews  ...  https://www.tripadvisor.ru/Restaurant_Review-g...\n",
              "3        Blackberry  ...  https://www.tripadvisor.ru/Restaurant_Review-g...\n",
              "4             Bazin  ...  https://www.tripadvisor.ru/Restaurant_Review-g...\n",
              "\n",
              "[5 rows x 5 columns]"
            ]
          },
          "metadata": {
            "tags": []
          },
          "execution_count": 13
        }
      ]
    },
    {
      "cell_type": "code",
      "metadata": {
        "id": "XX2OaAJ4ZUTx",
        "colab_type": "code",
        "colab": {}
      },
      "source": [
        "data.to_csv('data.csv',index=False)"
      ],
      "execution_count": 14,
      "outputs": []
    },
    {
      "cell_type": "markdown",
      "metadata": {
        "id": "ODM6dd2bt4UX",
        "colab_type": "text"
      },
      "source": [
        "**Получим координаты широты и долготы по адресам баров.** \n",
        "\n",
        "В качестве геокодера, рассматривался Nominatim, Google Map, Yandex Map.\n",
        "\n",
        "**Геокодер Nominatim**, не требует API, но при этом плохо работает с адресами на кириллице. Из 208 строк адресов, 64 адреса не выявлено (None). Колличество остаточных данных = 69,23%.\n",
        "\n",
        "**Геокодер Yandex Map**, требует API, но при этом лучший геокодер для кириллицы среди остальных. Колличество остаточных данных 100%.\n",
        "\n",
        "**P.S.** Выбор совершен в геокодер Yandex Map, ключ API будет скрыт."
      ]
    },
    {
      "cell_type": "code",
      "metadata": {
        "id": "8oMP09BCVbwF",
        "colab_type": "code",
        "colab": {}
      },
      "source": [
        "#Отфильтруем ячейки адресов\n",
        "address = data['address'].str.split('Россия',expand=True).replace(regex={r'пр. ': 'проспект ', 'пр., ': 'проспект ', 'ул. ': 'улица ',' Вход с Флагманской улицы':' ','Бертгольд Центр': ' ','Цокольный этаж, вход в арке': ' '})"
      ],
      "execution_count": null,
      "outputs": []
    },
    {
      "cell_type": "code",
      "metadata": {
        "id": "KLyCPGJ5SLDY",
        "colab_type": "code",
        "colab": {
          "base_uri": "https://localhost:8080/",
          "height": 78
        },
        "outputId": "c06166de-cc19-45b5-b6cd-ea84e961674a"
      },
      "source": [
        "#Строчка для поиска индекса\n",
        "some_value = 'Можайская'\n",
        "address[address[0].str.contains(some_value)]"
      ],
      "execution_count": null,
      "outputs": [
        {
          "output_type": "execute_result",
          "data": {
            "text/html": [
              "<div>\n",
              "<style scoped>\n",
              "    .dataframe tbody tr th:only-of-type {\n",
              "        vertical-align: middle;\n",
              "    }\n",
              "\n",
              "    .dataframe tbody tr th {\n",
              "        vertical-align: top;\n",
              "    }\n",
              "\n",
              "    .dataframe thead th {\n",
              "        text-align: right;\n",
              "    }\n",
              "</style>\n",
              "<table border=\"1\" class=\"dataframe\">\n",
              "  <thead>\n",
              "    <tr style=\"text-align: right;\">\n",
              "      <th></th>\n",
              "      <th>0</th>\n",
              "      <th>1</th>\n",
              "    </tr>\n",
              "  </thead>\n",
              "  <tbody>\n",
              "    <tr>\n",
              "      <th>189</th>\n",
              "      <td>Можайская, 31  , Санкт-Петербург 190013</td>\n",
              "      <td></td>\n",
              "    </tr>\n",
              "  </tbody>\n",
              "</table>\n",
              "</div>"
            ],
            "text/plain": [
              "                                            0 1\n",
              "189  Можайская, 31  , Санкт-Петербург 190013   "
            ]
          },
          "metadata": {
            "tags": []
          },
          "execution_count": 167
        }
      ]
    },
    {
      "cell_type": "markdown",
      "metadata": {
        "id": "tfzZ2wsjGxfs",
        "colab_type": "text"
      },
      "source": [
        "Устанавливаем геокодер Yandex Map 2.0.0"
      ]
    },
    {
      "cell_type": "code",
      "metadata": {
        "id": "97RbfS9yHGyT",
        "colab_type": "code",
        "colab": {
          "base_uri": "https://localhost:8080/",
          "height": 201
        },
        "outputId": "c8945fc3-c316-4453-e27b-d3fd24de8841"
      },
      "source": [
        "!pip install yandex-geocoder"
      ],
      "execution_count": 18,
      "outputs": [
        {
          "output_type": "stream",
          "text": [
            "Collecting yandex-geocoder\n",
            "  Downloading https://files.pythonhosted.org/packages/d4/65/f3b1aae67e6daead8edf88e5034e7c53a34c4586d3fc866a23eb0a19d1b9/yandex_geocoder-2.0.0-py3-none-any.whl\n",
            "Requirement already satisfied: requests~=2.22 in /usr/local/lib/python3.6/dist-packages (from yandex-geocoder) (2.23.0)\n",
            "Requirement already satisfied: chardet<4,>=3.0.2 in /usr/local/lib/python3.6/dist-packages (from requests~=2.22->yandex-geocoder) (3.0.4)\n",
            "Requirement already satisfied: idna<3,>=2.5 in /usr/local/lib/python3.6/dist-packages (from requests~=2.22->yandex-geocoder) (2.9)\n",
            "Requirement already satisfied: urllib3!=1.25.0,!=1.25.1,<1.26,>=1.21.1 in /usr/local/lib/python3.6/dist-packages (from requests~=2.22->yandex-geocoder) (1.24.3)\n",
            "Requirement already satisfied: certifi>=2017.4.17 in /usr/local/lib/python3.6/dist-packages (from requests~=2.22->yandex-geocoder) (2020.6.20)\n",
            "Installing collected packages: yandex-geocoder\n",
            "Successfully installed yandex-geocoder-2.0.0\n"
          ],
          "name": "stdout"
        }
      ]
    },
    {
      "cell_type": "code",
      "metadata": {
        "id": "JoG91b8rGyhw",
        "colab_type": "code",
        "colab": {}
      },
      "source": [
        "from decimal import Decimal\n",
        "from yandex_geocoder import Client\n",
        "#Key API (Вставить ключ API)\n",
        "client = Client(\"Your_Key\")"
      ],
      "execution_count": null,
      "outputs": []
    },
    {
      "cell_type": "markdown",
      "metadata": {
        "id": "nnHRaAguqGgp",
        "colab_type": "text"
      },
      "source": [
        "Создадим универсальный метод для данных о положении и названии бара.\n",
        "\n",
        "P.S. Универсальный, для того, чтобы этот метод мог быть применим к другим данным из description"
      ]
    },
    {
      "cell_type": "code",
      "metadata": {
        "id": "otb9bVVspnEC",
        "colab_type": "code",
        "colab": {}
      },
      "source": [
        "def _coordinate(address = address, data = data):\n",
        "  location = pd.DataFrame([])\n",
        "  for i in range(len(address[0])):\n",
        "    location = location.append({r'name':data['name'][i],'latitude': client.coordinates(address[0][i])[0],'longitude':client.coordinates(address[0][i])[1]}, ignore_index=True)\n",
        "  return(location)"
      ],
      "execution_count": null,
      "outputs": []
    },
    {
      "cell_type": "markdown",
      "metadata": {
        "id": "IHiuUurHw-PW",
        "colab_type": "text"
      },
      "source": [
        "Составим данные для обучения модели, как Y = name, X = latitude , longitude."
      ]
    },
    {
      "cell_type": "code",
      "metadata": {
        "id": "NAsSjCX9egJ_",
        "colab_type": "code",
        "colab": {}
      },
      "source": [
        "data_coordinate = _coordinate(address,data)"
      ],
      "execution_count": null,
      "outputs": []
    },
    {
      "cell_type": "code",
      "metadata": {
        "id": "wZO3lEM5voVj",
        "colab_type": "code",
        "colab": {
          "base_uri": "https://localhost:8080/",
          "height": 407
        },
        "outputId": "38dc1761-b39c-484b-fbde-c74cd7a6e51c"
      },
      "source": [
        "data_coordinate"
      ],
      "execution_count": null,
      "outputs": [
        {
          "output_type": "execute_result",
          "data": {
            "text/html": [
              "<div>\n",
              "<style scoped>\n",
              "    .dataframe tbody tr th:only-of-type {\n",
              "        vertical-align: middle;\n",
              "    }\n",
              "\n",
              "    .dataframe tbody tr th {\n",
              "        vertical-align: top;\n",
              "    }\n",
              "\n",
              "    .dataframe thead th {\n",
              "        text-align: right;\n",
              "    }\n",
              "</style>\n",
              "<table border=\"1\" class=\"dataframe\">\n",
              "  <thead>\n",
              "    <tr style=\"text-align: right;\">\n",
              "      <th></th>\n",
              "      <th>latitude</th>\n",
              "      <th>longitude</th>\n",
              "      <th>name</th>\n",
              "    </tr>\n",
              "  </thead>\n",
              "  <tbody>\n",
              "    <tr>\n",
              "      <th>0</th>\n",
              "      <td>30.459392</td>\n",
              "      <td>59.921809</td>\n",
              "      <td>Рок Паб</td>\n",
              "    </tr>\n",
              "    <tr>\n",
              "      <th>1</th>\n",
              "      <td>30.361224</td>\n",
              "      <td>59.934393</td>\n",
              "      <td>Ни В Одном Глазу</td>\n",
              "    </tr>\n",
              "    <tr>\n",
              "      <th>2</th>\n",
              "      <td>30.338479</td>\n",
              "      <td>59.927874</td>\n",
              "      <td>Gypsies &amp; Jews</td>\n",
              "    </tr>\n",
              "    <tr>\n",
              "      <th>3</th>\n",
              "      <td>30.398567</td>\n",
              "      <td>60.012246</td>\n",
              "      <td>Blackberry</td>\n",
              "    </tr>\n",
              "    <tr>\n",
              "      <th>4</th>\n",
              "      <td>30.356202</td>\n",
              "      <td>59.938991</td>\n",
              "      <td>Bazin</td>\n",
              "    </tr>\n",
              "    <tr>\n",
              "      <th>...</th>\n",
              "      <td>...</td>\n",
              "      <td>...</td>\n",
              "      <td>...</td>\n",
              "    </tr>\n",
              "    <tr>\n",
              "      <th>203</th>\n",
              "      <td>30.360919</td>\n",
              "      <td>59.939717</td>\n",
              "      <td>Всевсад</td>\n",
              "    </tr>\n",
              "    <tr>\n",
              "      <th>204</th>\n",
              "      <td>30.224384</td>\n",
              "      <td>60.026303</td>\n",
              "      <td>Встреча</td>\n",
              "    </tr>\n",
              "    <tr>\n",
              "      <th>205</th>\n",
              "      <td>30.304504</td>\n",
              "      <td>59.960453</td>\n",
              "      <td>Сансет Лаунж</td>\n",
              "    </tr>\n",
              "    <tr>\n",
              "      <th>206</th>\n",
              "      <td>30.308655</td>\n",
              "      <td>59.969205</td>\n",
              "      <td>Шейкер</td>\n",
              "    </tr>\n",
              "    <tr>\n",
              "      <th>207</th>\n",
              "      <td>30.41056</td>\n",
              "      <td>59.896224</td>\n",
              "      <td>Руспина</td>\n",
              "    </tr>\n",
              "  </tbody>\n",
              "</table>\n",
              "<p>208 rows × 3 columns</p>\n",
              "</div>"
            ],
            "text/plain": [
              "      latitude  longitude              name\n",
              "0    30.459392  59.921809           Рок Паб\n",
              "1    30.361224  59.934393  Ни В Одном Глазу\n",
              "2    30.338479  59.927874    Gypsies & Jews\n",
              "3    30.398567  60.012246        Blackberry\n",
              "4    30.356202  59.938991             Bazin\n",
              "..         ...        ...               ...\n",
              "203  30.360919  59.939717           Всевсад\n",
              "204  30.224384  60.026303           Встреча\n",
              "205  30.304504  59.960453      Сансет Лаунж\n",
              "206  30.308655  59.969205            Шейкер\n",
              "207   30.41056  59.896224           Руспина\n",
              "\n",
              "[208 rows x 3 columns]"
            ]
          },
          "metadata": {
            "tags": []
          },
          "execution_count": 170
        }
      ]
    },
    {
      "cell_type": "markdown",
      "metadata": {
        "id": "BUqnDgpxxKfB",
        "colab_type": "text"
      },
      "source": [
        "Сохраним данные в **csv**"
      ]
    },
    {
      "cell_type": "code",
      "metadata": {
        "id": "JyxCy3ZXt9Al",
        "colab_type": "code",
        "colab": {}
      },
      "source": [
        "data_coordinate.to_csv('data_coordinate.csv',index=False)"
      ],
      "execution_count": null,
      "outputs": []
    },
    {
      "cell_type": "markdown",
      "metadata": {
        "id": "17IBgRi4xYGT",
        "colab_type": "text"
      },
      "source": [
        "# Алгоритм поиска ближайших заведений"
      ]
    },
    {
      "cell_type": "markdown",
      "metadata": {
        "id": "02oiW2IMxcGw",
        "colab_type": "text"
      },
      "source": [
        "Применим метод ансамблей и многоклассовую класификацию."
      ]
    },
    {
      "cell_type": "markdown",
      "metadata": {
        "id": "vjJ5b5MyxsvD",
        "colab_type": "text"
      },
      "source": [
        "**P.S.** Разделим данные на тестовые и тренировочные. Выделим столбец для предсказания.\n",
        "\n",
        "**P.P.S** Для окончательного обучения модели:  в качестве тренировочных данных понадобяться все данные."
      ]
    },
    {
      "cell_type": "code",
      "metadata": {
        "id": "vRCvaG1g7d8P",
        "colab_type": "code",
        "colab": {}
      },
      "source": [
        "data_coordinate = pd.read_csv('/content/data_coordinate.csv')"
      ],
      "execution_count": 48,
      "outputs": []
    },
    {
      "cell_type": "code",
      "metadata": {
        "id": "LEVoyNTKCmjA",
        "colab_type": "code",
        "colab": {}
      },
      "source": [
        "train = data_coordinate"
      ],
      "execution_count": 4,
      "outputs": []
    },
    {
      "cell_type": "markdown",
      "metadata": {
        "id": "3hq7hXpln3vJ",
        "colab_type": "text"
      },
      "source": [
        "**Для поиска ближайших заведений, применим KMeans.**\n",
        "\n",
        "Метрика используется для вычисления расстояния (связи между точками). Может быть «euclidean», «l1», «l2», «manhattan», «cosine» или «precomputed». Если linkage  «ward», принимается только «euclidean». Если «precomputedо», в качестве входных данных для метода подгонки требуется distance matrix.\n",
        "\n",
        "**Какой критерий связывания использовать.** Критерий связи определяет, какое расстояние использовать между наборами наблюдений. Алгоритм объединит пары кластеров, которые минимизируют этот критерий.\n",
        "\n",
        "*Ward* минимизирует дисперсию объединяемых кластеров.\n",
        "\n",
        "*Average* использует среднее значение расстояний каждого наблюдения двух наборов.\n",
        "\n",
        "*Complete*  или максимальная связь использует максимальные расстояния между всеми наблюдениями двух наборов.\n",
        "\n",
        "*Single* использует минимум расстояний между всеми наблюдениями двух наборов.\n",
        "\n",
        "Колличество кластеров, возьмем 18, т.к. 18 регионов Санкт-Петербурга и заведения могут быть разбросаны по всем местам."
      ]
    },
    {
      "cell_type": "code",
      "metadata": {
        "id": "sLLNkjoOCfjE",
        "colab_type": "code",
        "colab": {}
      },
      "source": [
        "from sklearn.cluster import KMeans ,AgglomerativeClustering\n",
        "\n",
        "#Создает 18 кластеров, используя average кластеризацию.\n",
        "agc = AgglomerativeClustering(n_clusters =18, affinity='cosine', linkage='average')\n",
        "train['pickup cluster'] = agc.fit_predict(train[['longitude','latitude']])\n",
        "\n",
        "#Создает 18 кластеров, используя алгоритм кластеризации k-средних.\n",
        "kmeans = KMeans(18)\n",
        "clusters = kmeans.fit_predict(train[['longitude','latitude']])\n",
        "train['pickup cluster'] = kmeans.predict(train[['longitude','latitude']])"
      ],
      "execution_count": 5,
      "outputs": []
    },
    {
      "cell_type": "markdown",
      "metadata": {
        "id": "k3hBNnQOppiR",
        "colab_type": "text"
      },
      "source": [
        "Протестируем. На случай, если реализовывать алгорим, как \"Напиши любой адрес\" - \"Я найду ближайшие заведения\".\n",
        "\n",
        "P.S. Бота напишем с функциональностью. \"Поделись своими координатами\" - \"Я найду ближайшие заведения рядом с тобой\". "
      ]
    },
    {
      "cell_type": "code",
      "metadata": {
        "id": "7MAhfAmcHtTW",
        "colab_type": "code",
        "colab": {}
      },
      "source": [
        "position = \"Ленсовета 23, лит 23\""
      ],
      "execution_count": 14,
      "outputs": []
    },
    {
      "cell_type": "code",
      "metadata": {
        "id": "qst2YyAAIJa6",
        "colab_type": "code",
        "colab": {
          "base_uri": "https://localhost:8080/",
          "height": 35
        },
        "outputId": "17323a16-a7e7-49c2-dac4-08c3b2127ad4"
      },
      "source": [
        "longitude = float(client.coordinates(position + \"Санкт-Петербург\")[1])\n",
        "latitude = float(client.coordinates(position + \"Санкт-Петербург\")[0])\n",
        "print(longitude,latitude)"
      ],
      "execution_count": 20,
      "outputs": [
        {
          "output_type": "stream",
          "text": [
            "59.848276 30.329415\n"
          ],
          "name": "stdout"
        }
      ]
    },
    {
      "cell_type": "markdown",
      "metadata": {
        "id": "6p0Kud7TL9Ta",
        "colab_type": "text"
      },
      "source": [
        "Земля не является идеальным шаром, а несколько сплюснута у полюсов. Поэтому ее экваториальный радиус составляет 6378,1 км, полярный - 6356,8 км, а средний - 6371,0 км.\n",
        "\n",
        "Найдем расстояние между точками."
      ]
    },
    {
      "cell_type": "code",
      "metadata": {
        "id": "ZJRGW4B2C1fV",
        "colab_type": "code",
        "colab": {}
      },
      "source": [
        "def haversine_distance(row):\n",
        "    lat_p, lon_p = row['longitude'], row['latitude']\n",
        "    lat_d, lon_d = longitude,latitude\n",
        "    radius =  6371 # km\n",
        "\n",
        "    dlat = np.radians(lat_d - lat_p)\n",
        "    dlon = np.radians(lon_d - lon_p)\n",
        "    a = np.sin(dlat/2) * np.sin(dlat/2) + np.cos(np.radians(lat_p)) * np.cos(np.radians(lat_d)) * np.sin(dlon/2) * np.sin(dlon/2)\n",
        "    c = 2 * np.arctan2(np.sqrt(a), np.sqrt(1-a))\n",
        "    distance = radius * c\n",
        "\n",
        "    return distance"
      ],
      "execution_count": 21,
      "outputs": []
    },
    {
      "cell_type": "markdown",
      "metadata": {
        "id": "RQq7qExGqOpu",
        "colab_type": "text"
      },
      "source": [
        "Добавляем данные о расстоянии. Сортируем и выдаем заведений от самых близкий до самых дальних.\n",
        "\n",
        "**P.S.** Для бота, я организовал более сложный алгоритм, который вычисляет расстояние между точками - сортирует по расстоянию, а далее ближайшие заведения - сортирует по рейтингу от изданий. Тоже самое можно сделать и по средней оценки от пользователей."
      ]
    },
    {
      "cell_type": "code",
      "metadata": {
        "id": "gvzSXkA4GcUv",
        "colab_type": "code",
        "colab": {}
      },
      "source": [
        "train['distance'] = train.apply(haversine_distance, axis = 1)"
      ],
      "execution_count": null,
      "outputs": []
    },
    {
      "cell_type": "code",
      "metadata": {
        "id": "0INLSyj3QEcU",
        "colab_type": "code",
        "colab": {
          "base_uri": "https://localhost:8080/",
          "height": 407
        },
        "outputId": "2dbd1d70-d78c-4186-81a1-0a4f8f52e5d1"
      },
      "source": [
        "train.sort_values(by='distance', ascending=True)"
      ],
      "execution_count": null,
      "outputs": [
        {
          "output_type": "execute_result",
          "data": {
            "text/html": [
              "<div>\n",
              "<style scoped>\n",
              "    .dataframe tbody tr th:only-of-type {\n",
              "        vertical-align: middle;\n",
              "    }\n",
              "\n",
              "    .dataframe tbody tr th {\n",
              "        vertical-align: top;\n",
              "    }\n",
              "\n",
              "    .dataframe thead th {\n",
              "        text-align: right;\n",
              "    }\n",
              "</style>\n",
              "<table border=\"1\" class=\"dataframe\">\n",
              "  <thead>\n",
              "    <tr style=\"text-align: right;\">\n",
              "      <th></th>\n",
              "      <th>latitude</th>\n",
              "      <th>longitude</th>\n",
              "      <th>name</th>\n",
              "      <th>pickup cluster</th>\n",
              "      <th>distance</th>\n",
              "    </tr>\n",
              "  </thead>\n",
              "  <tbody>\n",
              "    <tr>\n",
              "      <th>27</th>\n",
              "      <td>30.330978</td>\n",
              "      <td>59.846924</td>\n",
              "      <td>Зис</td>\n",
              "      <td>5</td>\n",
              "      <td>0.173844</td>\n",
              "    </tr>\n",
              "    <tr>\n",
              "      <th>156</th>\n",
              "      <td>30.331903</td>\n",
              "      <td>59.851878</td>\n",
              "      <td>К'Ок</td>\n",
              "      <td>5</td>\n",
              "      <td>0.423943</td>\n",
              "    </tr>\n",
              "    <tr>\n",
              "      <th>143</th>\n",
              "      <td>30.334275</td>\n",
              "      <td>59.851892</td>\n",
              "      <td>Classico Bar &amp; Cafe</td>\n",
              "      <td>5</td>\n",
              "      <td>0.485120</td>\n",
              "    </tr>\n",
              "    <tr>\n",
              "      <th>90</th>\n",
              "      <td>30.323073</td>\n",
              "      <td>59.852176</td>\n",
              "      <td>Гриззли</td>\n",
              "      <td>5</td>\n",
              "      <td>0.559924</td>\n",
              "    </tr>\n",
              "    <tr>\n",
              "      <th>92</th>\n",
              "      <td>30.319839</td>\n",
              "      <td>59.855331</td>\n",
              "      <td>Hoppy Cat</td>\n",
              "      <td>5</td>\n",
              "      <td>0.949423</td>\n",
              "    </tr>\n",
              "    <tr>\n",
              "      <th>...</th>\n",
              "      <td>...</td>\n",
              "      <td>...</td>\n",
              "      <td>...</td>\n",
              "      <td>...</td>\n",
              "      <td>...</td>\n",
              "    </tr>\n",
              "    <tr>\n",
              "      <th>130</th>\n",
              "      <td>30.311862</td>\n",
              "      <td>60.052950</td>\n",
              "      <td>Beermingham</td>\n",
              "      <td>10</td>\n",
              "      <td>22.779687</td>\n",
              "    </tr>\n",
              "    <tr>\n",
              "      <th>128</th>\n",
              "      <td>29.975676</td>\n",
              "      <td>60.049792</td>\n",
              "      <td>Ресторан Пивоварня \"202\"</td>\n",
              "      <td>3</td>\n",
              "      <td>29.834153</td>\n",
              "    </tr>\n",
              "    <tr>\n",
              "      <th>25</th>\n",
              "      <td>29.973853</td>\n",
              "      <td>60.090836</td>\n",
              "      <td>Easy bar</td>\n",
              "      <td>3</td>\n",
              "      <td>33.450843</td>\n",
              "    </tr>\n",
              "    <tr>\n",
              "      <th>109</th>\n",
              "      <td>29.965732</td>\n",
              "      <td>60.091841</td>\n",
              "      <td>Fusion Food &amp; Beer</td>\n",
              "      <td>3</td>\n",
              "      <td>33.809390</td>\n",
              "    </tr>\n",
              "    <tr>\n",
              "      <th>180</th>\n",
              "      <td>29.961788</td>\n",
              "      <td>60.116078</td>\n",
              "      <td>Ibiza</td>\n",
              "      <td>3</td>\n",
              "      <td>36.123983</td>\n",
              "    </tr>\n",
              "  </tbody>\n",
              "</table>\n",
              "<p>208 rows × 5 columns</p>\n",
              "</div>"
            ],
            "text/plain": [
              "      latitude  longitude                      name  pickup cluster   distance\n",
              "27   30.330978  59.846924                       Зис               5   0.173844\n",
              "156  30.331903  59.851878                      К'Ок               5   0.423943\n",
              "143  30.334275  59.851892       Classico Bar & Cafe               5   0.485120\n",
              "90   30.323073  59.852176                   Гриззли               5   0.559924\n",
              "92   30.319839  59.855331                 Hoppy Cat               5   0.949423\n",
              "..         ...        ...                       ...             ...        ...\n",
              "130  30.311862  60.052950               Beermingham              10  22.779687\n",
              "128  29.975676  60.049792  Ресторан Пивоварня \"202\"               3  29.834153\n",
              "25   29.973853  60.090836                  Easy bar               3  33.450843\n",
              "109  29.965732  60.091841        Fusion Food & Beer               3  33.809390\n",
              "180  29.961788  60.116078                     Ibiza               3  36.123983\n",
              "\n",
              "[208 rows x 5 columns]"
            ]
          },
          "metadata": {
            "tags": []
          },
          "execution_count": 208
        }
      ]
    },
    {
      "cell_type": "markdown",
      "metadata": {
        "id": "cKOarj4YqX83",
        "colab_type": "text"
      },
      "source": [
        "Построим график, чтобы узнать как расположены точки относительно друг друга. Установим рандомный цвет для каждого кластера."
      ]
    },
    {
      "cell_type": "code",
      "metadata": {
        "id": "FT8zT78hXBOU",
        "colab_type": "code",
        "colab": {}
      },
      "source": [
        "import random \n",
        "\n",
        "colors = [[random.random(),random.random(),random.random()],[random.random(),random.random(),random.random()],[random.random(),random.random(),random.random()],\n",
        "          [random.random(),random.random(),random.random()],[random.random(),random.random(),random.random()],[random.random(),random.random(),random.random()],\n",
        "          [random.random(),random.random(),random.random()],[random.random(),random.random(),random.random()],[random.random(),random.random(),random.random()],\n",
        "          [random.random(),random.random(),random.random()],[random.random(),random.random(),random.random()],[random.random(),random.random(),random.random()],\n",
        "          [random.random(),random.random(),random.random()],[random.random(),random.random(),random.random()],[random.random(),random.random(),random.random()],\n",
        "          [random.random(),random.random(),random.random()],[random.random(),random.random(),random.random()],[random.random(),random.random(),random.random()]]"
      ],
      "execution_count": null,
      "outputs": []
    },
    {
      "cell_type": "code",
      "metadata": {
        "id": "vQHqf5N2SZJ4",
        "colab_type": "code",
        "colab": {
          "base_uri": "https://localhost:8080/",
          "height": 706
        },
        "outputId": "d25c7feb-3f8f-4cf3-8187-2a6417fa1ea5"
      },
      "source": [
        "import matplotlib.pyplot as plt\n",
        "from sklearn.cluster import KMeans\n",
        "# Plot each class as a separate colour\n",
        "n_clusters = 18 \n",
        "\n",
        "plt.figure(figsize=(12, 10), dpi= 80, facecolor='w', edgecolor='k')\n",
        "for n in range(n_clusters):\n",
        "    # Filter data points to plot each in turn.\n",
        "    ys = train['longitude'][ train['pickup cluster']==n ]\n",
        "    xs = train['latitude'][ train['pickup cluster']==n ]\n",
        "\n",
        "    plt.scatter(xs, ys, color=colors[n], label=str(n))\n",
        "\n",
        "plt.gca().set(xlabel='Latitude', ylabel='Longitude')\n",
        "plt.xticks(fontsize=12); plt.yticks(fontsize=12)\n",
        "plt.legend(fontsize=12) \n",
        "plt.title(\"Points by cluster\")"
      ],
      "execution_count": null,
      "outputs": [
        {
          "output_type": "execute_result",
          "data": {
            "text/plain": [
              "Text(0.5, 1.0, 'Points by cluster')"
            ]
          },
          "metadata": {
            "tags": []
          },
          "execution_count": 235
        },
        {
          "output_type": "display_data",
          "data": {
            "image/png": "[encoded data removed]",
            "text/plain": [
              "<Figure size 960x800 with 1 Axes>"
            ]
          },
          "metadata": {
            "tags": []
          }
        }
      ]
    },
    {
      "cell_type": "markdown",
      "metadata": {
        "id": "mkXk1SYxqoc-",
        "colab_type": "text"
      },
      "source": [
        "**P.S.** Если бы даже индексы терялись, поиск в базе данных можно осуществлять по имени заведения. Для алгоритма применяем базу данных содержащие только положение и название, т.к. при большом объеме данных и сложных вычислений - это бы сохранило RAM и GPU.\n"
      ]
    },
    {
      "cell_type": "markdown",
      "metadata": {
        "id": "wdnPpHf0w0xo",
        "colab_type": "text"
      },
      "source": [
        "# Написание бота"
      ]
    },
    {
      "cell_type": "code",
      "metadata": {
        "id": "8D0PZKWYwz2j",
        "colab_type": "code",
        "colab": {
          "base_uri": "https://localhost:8080/",
          "height": 619
        },
        "outputId": "3c8043a3-6199-42bf-8629-a538bccbd0f6"
      },
      "source": [
        "!pip install python-telegram-bot --upgrade\n",
        "!pip install selenium\n",
        "!apt install chromium-chromedriver"
      ],
      "execution_count": 11,
      "outputs": [
        {
          "output_type": "stream",
          "text": [
            "Collecting python-telegram-bot\n",
            "\u001b[?25l  Downloading https://files.pythonhosted.org/packages/a6/2d/c72fc9a28144277f6170f2fcbfd3bd9427943497522b2689846596eb86cf/python_telegram_bot-12.8-py2.py3-none-any.whl (375kB)\n",
            "\u001b[K     |████████████████████████████████| 378kB 6.3MB/s \n",
            "\u001b[?25hRequirement already satisfied, skipping upgrade: decorator>=4.4.0 in /usr/local/lib/python3.6/dist-packages (from python-telegram-bot) (4.4.2)\n",
            "Collecting tornado>=5.1\n",
            "\u001b[?25l  Downloading https://files.pythonhosted.org/packages/95/84/119a46d494f008969bf0c775cb2c6b3579d3c4cc1bb1b41a022aa93ee242/tornado-6.0.4.tar.gz (496kB)\n",
            "\u001b[K     |████████████████████████████████| 501kB 18.2MB/s \n",
            "\u001b[?25hCollecting cryptography\n",
            "\u001b[?25l  Downloading https://files.pythonhosted.org/packages/3c/04/686efee2dcdd25aecf357992e7d9362f443eb182ecd623f882bc9f7a6bba/cryptography-2.9.2-cp35-abi3-manylinux2010_x86_64.whl (2.7MB)\n",
            "\u001b[K     |████████████████████████████████| 2.7MB 21.3MB/s \n",
            "\u001b[?25hRequirement already satisfied, skipping upgrade: certifi in /usr/local/lib/python3.6/dist-packages (from python-telegram-bot) (2020.6.20)\n",
            "Requirement already satisfied, skipping upgrade: six>=1.4.1 in /usr/local/lib/python3.6/dist-packages (from cryptography->python-telegram-bot) (1.12.0)\n",
            "Requirement already satisfied, skipping upgrade: cffi!=1.11.3,>=1.8 in /usr/local/lib/python3.6/dist-packages (from cryptography->python-telegram-bot) (1.14.0)\n",
            "Requirement already satisfied, skipping upgrade: pycparser in /usr/local/lib/python3.6/dist-packages (from cffi!=1.11.3,>=1.8->cryptography->python-telegram-bot) (2.20)\n",
            "Building wheels for collected packages: tornado\n",
            "  Building wheel for tornado (setup.py) ... \u001b[?25l\u001b[?25hdone\n",
            "  Created wheel for tornado: filename=tornado-6.0.4-cp36-cp36m-linux_x86_64.whl size=427642 sha256=cb83f6773feea4c42f57dea8c845b91404e9764ab95bb0eabda731be3c609528\n",
            "  Stored in directory: /root/.cache/pip/wheels/93/84/2f/409c7b2bb3afc3aa727f7ee8787975e0793f74d1165f4d0104\n",
            "Successfully built tornado\n",
            "Installing collected packages: tornado, cryptography, python-telegram-bot\n",
            "  Found existing installation: tornado 4.5.3\n",
            "    Uninstalling tornado-4.5.3:\n",
            "      Successfully uninstalled tornado-4.5.3\n",
            "Successfully installed cryptography-2.9.2 python-telegram-bot-12.8 tornado-6.0.4\n"
          ],
          "name": "stdout"
        },
        {
          "output_type": "display_data",
          "data": {
            "application/vnd.colab-display-data+json": {
              "pip_warning": {
                "packages": [
                  "tornado"
                ]
              }
            }
          },
          "metadata": {
            "tags": []
          }
        }
      ]
    },
    {
      "cell_type": "markdown",
      "metadata": {
        "id": "loqVpOsmxRjM",
        "colab_type": "text"
      },
      "source": [
        "Первое, что нужно сделать это импортировать нашу библиотеку и подключить токен бота:"
      ]
    },
    {
      "cell_type": "code",
      "metadata": {
        "id": "txfd4J8dxCLN",
        "colab_type": "code",
        "colab": {
          "base_uri": "https://localhost:8080/",
          "height": 74
        },
        "outputId": "88ea5d16-c6ad-4c1c-902d-223e09dac7d5"
      },
      "source": [
        "#Подключим библиотеки\n",
        "import pandas as pd\n",
        "import numpy as np\n",
        "from selenium import webdriver\n",
        "#Настройки\n",
        "import logging\n",
        "import os\n",
        "from telegram.ext import Updater, CommandHandler, MessageHandler, Filters\n",
        "import telegram.ext\n",
        "updater = Updater(token='Your_Key') # Токен API к Telegram\n",
        "#Переменная для сортировки\n",
        "num_bar = 0"
      ],
      "execution_count": 1,
      "outputs": [
        {
          "output_type": "stream",
          "text": [
            "/usr/local/lib/python3.6/dist-packages/ipykernel_launcher.py:10: TelegramDeprecationWarning: Old Handler API is deprecated - see https://git.io/fxJuV for details\n",
            "  # Remove the CWD from sys.path while we load stuff.\n"
          ],
          "name": "stderr"
        }
      ]
    },
    {
      "cell_type": "markdown",
      "metadata": {
        "id": "U8CUqQCBxs1-",
        "colab_type": "text"
      },
      "source": [
        "Команды **Старт** и **Инструкция**.\n",
        "\n"
      ]
    },
    {
      "cell_type": "code",
      "metadata": {
        "id": "zhQy7XPwxLNj",
        "colab_type": "code",
        "colab": {}
      },
      "source": [
        "# Обработка команд\n",
        "def startCommand(bot, update):\n",
        "    #Начало\n",
        "    bot.send_message(chat_id=update.message.chat_id, text='Привет, давай пообщаемся?')\n",
        "\n",
        "def helpMessage(bot, update):\n",
        "    #Инструкция\n",
        "    bot.send_message(chat_id=update.message.chat_id, text='Инструкция! Шаг 1. Поделись, пожалуйста, своим положением. Набери /location. Шаг 2. Узнай ближайшие бары. Набери /bar')"
      ],
      "execution_count": 2,
      "outputs": []
    },
    {
      "cell_type": "markdown",
      "metadata": {
        "id": "1r8csm3Pm2ru",
        "colab_type": "text"
      },
      "source": [
        "Взаимодействие с пользователем **Выбор бара** и **Прочие сообщения**."
      ]
    },
    {
      "cell_type": "code",
      "metadata": {
        "id": "kHZqq2U7Z8Q8",
        "colab_type": "code",
        "colab": {}
      },
      "source": [
        "def textMessage(bot, update):\n",
        "    #Продублируем сообщение пользователя, если такого текста нет в коде.\n",
        "    response = 'Получил Ваше сообщение: ' + update.message.text\n",
        "    #Глобальная переменная для прокрутки списка\n",
        "    global num_bar\n",
        "    #Если \"Нравится\", тогда получаем ссылку\n",
        "    if update.message.text == 'Нравится?':\n",
        "      reply_markup = telegram.ReplyKeyboardRemove() #убирем клавиатуру\n",
        "      response = 'Ссылка: ' + data.iloc[data.iloc[num_bar].name]['curl'] #ссылка\n",
        "      bot.send_message(chat_id=update.message.chat_id, text=response, reply_markup=reply_markup)\n",
        "    elif update.message.text == 'Следующий бар!' and num_bar != 10:\n",
        "      #Картинка с веб-сайта должна загрузиться, для этого пишем сообщении об ожидании\n",
        "      bot.send_message(chat_id=update.message.chat_id, text=\"Загружаю данные...\")\n",
        "      #Установим опции для хрома\n",
        "      options = webdriver.ChromeOptions()\n",
        "      options.add_argument('--headless')\n",
        "      options.add_argument('--no-sandbox')\n",
        "      options.add_argument('--disable-dev-shm-usage')\n",
        "      #Получаем скриншот с экрана сайта tripadvisor раздела фото заведения\n",
        "      wd = webdriver.Chrome('chromedriver',options=options)\n",
        "      wd.get(data.iloc[data.iloc[num_bar].name]['curl']+\"#photos\")\n",
        "      wd.save_screenshot('screenshot.png')\n",
        "      #Генерируем сообщение \n",
        "      response = 'Ближайший бар: ' + train.iloc[num_bar][2] + ' Адрес: ' + data.iloc[data.iloc[num_bar].name]['address'] + ' Фото бара:'\n",
        "      #Держим клавиатуру\n",
        "      custom_keyboard = [['Нравится?', 'Следующий бар!']] \n",
        "      reply_markup = telegram.ReplyKeyboardMarkup(custom_keyboard)\n",
        "      #Отправим сообщение\n",
        "      bot.send_message(chat_id=update.message.chat_id, text=response, reply_markup=reply_markup)\n",
        "      #Отправим скрин\n",
        "      bot.send_photo(chat_id = update.message.chat_id, photo = open('/content/screenshot.png','rb')) \n",
        "      #Проверка, что индекс не больше 10,т.к. как у нас список из 10 баров, нужно начать листать заново.\n",
        "      num_bar += 1\n",
        "      if num_bar > 9:\n",
        "        num_bar = 0\n",
        "      \n",
        "    else:\n",
        "      #Обычное сообщение пользователя. Копируем его и показываем инструкцию\n",
        "      bot.send_message(chat_id=update.message.chat_id, text=response)\n",
        "      bot.send_message(chat_id=update.message.chat_id, text=\"Набери /help для инструкции\")"
      ],
      "execution_count": 3,
      "outputs": []
    },
    {
      "cell_type": "markdown",
      "metadata": {
        "id": "OVTRMxqNnLiX",
        "colab_type": "text"
      },
      "source": [
        "Узнать местоположение пользователя"
      ]
    },
    {
      "cell_type": "code",
      "metadata": {
        "id": "brZzXuvv0khT",
        "colab_type": "code",
        "colab": {}
      },
      "source": [
        "def getLocation(bot, update):\n",
        "    #Пользователь должен подтвердить разрешение на использовании его местоположения\n",
        "    location_keyboard = telegram.KeyboardButton(text='Определить местоположение', request_location=True)\n",
        "    contact_keyboard = telegram.KeyboardButton(text='Нет, спасибо!')\n",
        "    custom_keyboard = [[ location_keyboard, contact_keyboard ]]\n",
        "    reply_markup = telegram.ReplyKeyboardMarkup(custom_keyboard)\n",
        "    bot.send_message(chat_id=update.message.chat_id, text=\"Не могли бы вы поделиться своим местоположением и связаться со мной?\", reply_markup=reply_markup)"
      ],
      "execution_count": 4,
      "outputs": []
    },
    {
      "cell_type": "code",
      "metadata": {
        "id": "rXhDfyH_2j4X",
        "colab_type": "code",
        "colab": {}
      },
      "source": [
        "def location(bot, update):\n",
        "    #Получаем данные пользователя о его положении в глобальные переменные\n",
        "    global user_longitude, user_latitude\n",
        "    user_longitude = update.message.location.longitude\n",
        "    user_latitude = update.message.location.latitude\n",
        "    print(user_longitude,user_latitude)"
      ],
      "execution_count": 5,
      "outputs": []
    },
    {
      "cell_type": "markdown",
      "metadata": {
        "id": "rDyhn2MiFeg5",
        "colab_type": "text"
      },
      "source": [
        "Алгоритм поиска ближайших заведений."
      ]
    },
    {
      "cell_type": "code",
      "metadata": {
        "id": "oUyYTCZDFd_d",
        "colab_type": "code",
        "colab": {}
      },
      "source": [
        "def model(bot, update):\n",
        "  #Импортируем основные данные о заведениях\n",
        "  global data\n",
        "  data = pd.read_csv('/content/data.csv')\n",
        "  #Импортируем сокращенные данные о заведениях (положение и название)\n",
        "  global train\n",
        "  train = pd.read_csv('/content/data_coordinate.csv')\n",
        "  #Дополнительно. Усложним алгоритм отбора заведений. Добавим данные place_in_rating - рейтинг заведения в категории, при этом если заведение не появлялось в рейтинге, тогда его рейтинг 1. Рейтинг стремится к 0, тем лучше заведение. P.S. Если искать только ближайшие заведения - эти строчки не нужно. Если цель алгоритма, будет рекомендовать сначало неизвестные заведения (которых нет в рейтинге), тогда убрать цикл замены 0 на 1.\n",
        "  train['place_in_rating'] = data['place_in_rating']\n",
        "  for i in range(len(train['place_in_rating'])):\n",
        "    if train['place_in_rating'].iloc[i] == 0.000000:\n",
        "      train['place_in_rating'].iloc[i] = 1.000000\n",
        "    else:\n",
        "      train['place_in_rating'].iloc[i] = train['place_in_rating'].iloc[i]\n",
        "  #Разделим данные по кластерам. В нашем случае кластеров 18, т.к. регионов в Санк-Петербурге 18. Вычисляем косинусное расстояние (связи) 'cosine', критерий связи 'average'\n",
        "  from sklearn.cluster import KMeans ,AgglomerativeClustering\n",
        "  agc = AgglomerativeClustering(n_clusters =18, affinity='cosine', linkage='average')\n",
        "  train['pickup cluster'] = agc.fit_predict(train[['longitude','latitude']])\n",
        "  \n",
        "  kmeans = KMeans(18)\n",
        "  clusters = kmeans.fit_predict(train[['longitude','latitude']])\n",
        "  train['pickup cluster'] = kmeans.predict(train[['longitude','latitude']])\n",
        "  #Определим расстояние до пользователя. Радиус Земли взят средний в км.\n",
        "  def haversine_distance(row):\n",
        "    lat_p, lon_p = row['longitude'], row['latitude']\n",
        "    lat_d, lon_d = user_latitude, user_longitude\n",
        "    radius =  6371 # km\n",
        "\n",
        "    dlat = np.radians(lat_d - lat_p)\n",
        "    dlon = np.radians(lon_d - lon_p)\n",
        "    a = np.sin(dlat/2) * np.sin(dlat/2) + np.cos(np.radians(lat_p)) * np.cos(np.radians(lat_d)) * np.sin(dlon/2) * np.sin(dlon/2)\n",
        "    c = 2 * np.arctan2(np.sqrt(a), np.sqrt(1-a))\n",
        "    distance = radius * c\n",
        "\n",
        "    return distance\n",
        "  #Колонка расстояние\n",
        "  train['distance'] = train.apply(haversine_distance, axis = 1)\n",
        "  #Возьмем 20 ближайших заведений\n",
        "  train = train.sort_values(by='distance', ascending=True)[:20]\n",
        "  #Сократим список до 10 самых рейтинговых заведений. Если захотим найти только ближайшие заведения. Удаляем нижнию строчку и вверхней строчке выставляем колличество 10 баров.\n",
        "  train = train.sort_values(by='place_in_rating', ascending=True)[:10]\n",
        "  #Сообщение для пользователя\n",
        "  response = 'Процесс обработки завершен ... Готов узнать ближайший бар?'\n",
        "  #Клавиатура\n",
        "  custom_keyboard = [['Следующий бар!']]  \n",
        "  reply_markup = telegram.ReplyKeyboardMarkup(custom_keyboard)\n",
        "  bot.send_message(chat_id=update.message.chat_id, text=response, reply_markup = reply_markup)"
      ],
      "execution_count": 6,
      "outputs": []
    },
    {
      "cell_type": "markdown",
      "metadata": {
        "id": "2ZsVUWkIFe7s",
        "colab_type": "text"
      },
      "source": [
        "Запуск среды (Телеграмм бот)"
      ]
    },
    {
      "cell_type": "code",
      "metadata": {
        "id": "tqlOEbdoY0iP",
        "colab_type": "code",
        "colab": {
          "base_uri": "https://localhost:8080/",
          "height": 146
        },
        "outputId": "fc673b70-78ed-43f4-d5d0-5e012e10195d"
      },
      "source": [
        "#Получить диспетчер для регистрации обработчиков\n",
        "dp = updater.dispatcher\n",
        "\n",
        "# Добавляем хендлеры в диспетчер\n",
        "#На разные команды - ответьте в Telegram\n",
        "dp.add_handler(CommandHandler(\"start\", startCommand))\n",
        "dp.add_handler(CommandHandler(\"help\", helpMessage))\n",
        "dp.add_handler(CommandHandler(\"location\", getLocation))\n",
        "dp.add_handler(CommandHandler(\"bar\", model))\n",
        "\n",
        "#На некомандном, т.е. сообщение - отобразить сообщение на Telegram\n",
        "dp.add_handler(MessageHandler(Filters.text, textMessage))\n",
        "dp.add_handler(MessageHandler(Filters.location, location))\n",
        "\n",
        "#dp.add_handler(MessageHandler(Filters.regex, method)) #на случай организации меню\n",
        "#Старт для бота\n",
        "updater.start_polling()\n",
        "\n",
        "#start_polling () неблокирует и корректно остановит бота.\n",
        "updater.idle()"
      ],
      "execution_count": null,
      "outputs": [
        {
          "output_type": "stream",
          "text": [
            "30.329664 59.847994\n"
          ],
          "name": "stdout"
        },
        {
          "output_type": "stream",
          "text": [
            "/usr/local/lib/python3.6/dist-packages/pandas/core/indexing.py:671: SettingWithCopyWarning: \n",
            "A value is trying to be set on a copy of a slice from a DataFrame\n",
            "\n",
            "See the caveats in the documentation: https://pandas.pydata.org/pandas-docs/stable/user_guide/indexing.html#returning-a-view-versus-a-copy\n",
            "  self._setitem_with_indexer(indexer, value)\n"
          ],
          "name": "stderr"
        }
      ]
    }
  ]
}